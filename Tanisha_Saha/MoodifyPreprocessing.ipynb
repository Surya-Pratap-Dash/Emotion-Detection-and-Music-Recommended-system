{
  "cells": [
    {
      "cell_type": "code",
      "execution_count": null,
      "metadata": {
        "colab": {
          "base_uri": "https://localhost:8080/"
        },
        "id": "lJLlulZgrBlj",
        "outputId": "179bbebc-c66f-4a84-eb35-b45cb636bf96"
      },
      "outputs": [
        {
          "name": "stdout",
          "output_type": "stream",
          "text": [
            "Mounted at /content/drive\n"
          ]
        }
      ],
      "source": [
        "from google.colab import drive\n",
        "drive.mount('/content/drive')"
      ]
    },
    {
      "cell_type": "code",
      "execution_count": null,
      "metadata": {
        "colab": {
          "base_uri": "https://localhost:8080/"
        },
        "id": "TxqCWJT1rMUS",
        "outputId": "06b1c021-7b5d-49e9-b143-756228a7c3a6"
      },
      "outputs": [
        {
          "name": "stdout",
          "output_type": "stream",
          "text": [
            "Files in extracted folder: ['278k_labelled_uri.csv', '278k_song_labelled.csv']\n"
          ]
        }
      ],
      "source": [
        "import zipfile\n",
        "import os\n",
        "\n",
        "zip_path = \"/content/drive/MyDrive/Moodify/Moodify.zip\"\n",
        "extract_path = \"/content/drive/MyDrive/Moodify/278k_dataset\"\n",
        "\n",
        "with zipfile.ZipFile(zip_path, 'r') as zip_ref:\n",
        "    zip_ref.extractall(extract_path)\n",
        "\n",
        "print(\"Files in extracted folder:\", os.listdir(extract_path))\n"
      ]
    },
    {
      "cell_type": "code",
      "execution_count": null,
      "metadata": {
        "id": "EXjlLzidr6-J"
      },
      "outputs": [],
      "source": [
        "import pandas as pd\n",
        "import os\n",
        "\n",
        "extract_path = \"/content/drive/MyDrive/Moodify/278k_dataset\"\n",
        "\n",
        "# Load URI dataset\n",
        "uri_df = pd.read_csv(os.path.join(extract_path, \"278k_labelled_uri.csv\"))\n",
        "\n",
        "# Load song metadata dataset (if needed)\n",
        "song_df = pd.read_csv(os.path.join(extract_path, \"278k_song_labelled.csv\"))\n"
      ]
    },
    {
      "cell_type": "code",
      "execution_count": null,
      "metadata": {
        "colab": {
          "base_uri": "https://localhost:8080/"
        },
        "id": "pJrRVI-GsgyV",
        "outputId": "696c0833-b99a-43bb-c4ed-ed46b466f4cf"
      },
      "outputs": [
        {
          "name": "stdout",
          "output_type": "stream",
          "text": [
            "URI DF columns: Index(['Unnamed: 0.1', 'Unnamed: 0', 'duration (ms)', 'danceability', 'energy',\n",
            "       'loudness', 'speechiness', 'acousticness', 'instrumentalness',\n",
            "       'liveness', 'valence', 'tempo', 'spec_rate', 'labels', 'uri'],\n",
            "      dtype='object')\n",
            "Song DF columns: Index(['Unnamed: 0', 'duration (ms)', 'danceability', 'energy', 'loudness',\n",
            "       'speechiness', 'acousticness', 'instrumentalness', 'liveness',\n",
            "       'valence', 'tempo', 'spec_rate', 'labels'],\n",
            "      dtype='object')\n"
          ]
        }
      ],
      "source": [
        "print(\"URI DF columns:\", uri_df.columns)\n",
        "print(\"Song DF columns:\", song_df.columns)"
      ]
    },
    {
      "cell_type": "code",
      "execution_count": null,
      "metadata": {
        "colab": {
          "base_uri": "https://localhost:8080/"
        },
        "id": "gf5tsHT2tHJ7",
        "outputId": "18785be3-9eaa-4774-9849-84ed6cc43268"
      },
      "outputs": [
        {
          "name": "stdout",
          "output_type": "stream",
          "text": [
            "URI DF shape: (277938, 15)\n",
            "Song DF shape: (277938, 13)\n"
          ]
        }
      ],
      "source": [
        "print(\"URI DF shape:\", uri_df.shape)\n",
        "print(\"Song DF shape:\", song_df.shape)"
      ]
    },
    {
      "cell_type": "code",
      "execution_count": null,
      "metadata": {
        "colab": {
          "base_uri": "https://localhost:8080/"
        },
        "id": "nKzePLoZtMhh",
        "outputId": "b37f3667-bb10-479a-ab0d-7938059834b5"
      },
      "outputs": [
        {
          "name": "stdout",
          "output_type": "stream",
          "text": [
            "URI DF label counts:\n",
            "labels\n",
            "1    106429\n",
            "0     82058\n",
            "2     47065\n",
            "3     42386\n",
            "Name: count, dtype: int64\n",
            "\n",
            "Song DF label counts:\n",
            "labels\n",
            "1    106429\n",
            "0     82058\n",
            "2     47065\n",
            "3     42386\n",
            "Name: count, dtype: int64\n"
          ]
        }
      ],
      "source": [
        "# URI dataset\n",
        "print(\"URI DF label counts:\")\n",
        "print(uri_df['labels'].value_counts())\n",
        "\n",
        "# Song dataset\n",
        "print(\"\\nSong DF label counts:\")\n",
        "print(song_df['labels'].value_counts())\n",
        "\n"
      ]
    },
    {
      "cell_type": "code",
      "execution_count": null,
      "metadata": {
        "id": "eRfhilbbvbt4"
      },
      "outputs": [],
      "source": [
        "moodify_label_map = {\n",
        "    0: \"sad\",\n",
        "    1: \"happy\",\n",
        "    2: \"angry\",   # energetic → angry\n",
        "    3: \"calm\"\n",
        "}"
      ]
    },
    {
      "cell_type": "code",
      "execution_count": null,
      "metadata": {
        "colab": {
          "base_uri": "https://localhost:8080/"
        },
        "id": "ClK4471JwWgq",
        "outputId": "fde7ebe3-f680-4ef2-f5fa-c1a13c1d75b7"
      },
      "outputs": [
        {
          "name": "stdout",
          "output_type": "stream",
          "text": [
            "\n",
            "Mood distribution:\n",
            " mood\n",
            "happy    106429\n",
            "sad       82058\n",
            "angry     47065\n",
            "calm      42386\n",
            "Name: count, dtype: int64\n"
          ]
        }
      ],
      "source": [
        "uri_df['mood'] = uri_df['labels'].map(moodify_label_map)\n",
        "print(\"\\nMood distribution:\\n\", uri_df['mood'].value_counts())"
      ]
    },
    {
      "cell_type": "code",
      "execution_count": null,
      "metadata": {
        "colab": {
          "base_uri": "https://localhost:8080/"
        },
        "id": "cqyS1swgwZUF",
        "outputId": "60dfa5ff-6d2c-4186-92d0-3704b541052d"
      },
      "outputs": [
        {
          "name": "stdout",
          "output_type": "stream",
          "text": [
            "\n",
            "Missing values:\n",
            " Unnamed: 0.1        0\n",
            "Unnamed: 0          0\n",
            "duration (ms)       0\n",
            "danceability        0\n",
            "energy              0\n",
            "loudness            0\n",
            "speechiness         0\n",
            "acousticness        0\n",
            "instrumentalness    0\n",
            "liveness            0\n",
            "valence             0\n",
            "tempo               0\n",
            "spec_rate           0\n",
            "labels              0\n",
            "uri                 0\n",
            "mood                0\n",
            "dtype: int64\n",
            "Duplicates before drop: 0\n"
          ]
        }
      ],
      "source": [
        "print(\"\\nMissing values:\\n\", uri_df.isnull().sum())\n",
        "print(\"Duplicates before drop:\", uri_df.duplicated().sum())"
      ]
    },
    {
      "cell_type": "code",
      "execution_count": null,
      "metadata": {
        "colab": {
          "base_uri": "https://localhost:8080/"
        },
        "id": "24mtFHLXxY2u",
        "outputId": "c3daf2c9-0f05-4947-fde5-567f9cafcc6a"
      },
      "outputs": [
        {
          "name": "stdout",
          "output_type": "stream",
          "text": [
            "Collecting spotipy\n",
            "  Downloading spotipy-2.25.1-py3-none-any.whl.metadata (5.1 kB)\n",
            "Collecting redis>=3.5.3 (from spotipy)\n",
            "  Downloading redis-6.4.0-py3-none-any.whl.metadata (10 kB)\n",
            "Requirement already satisfied: requests>=2.25.0 in /usr/local/lib/python3.12/dist-packages (from spotipy) (2.32.4)\n",
            "Requirement already satisfied: urllib3>=1.26.0 in /usr/local/lib/python3.12/dist-packages (from spotipy) (2.5.0)\n",
            "Requirement already satisfied: charset_normalizer<4,>=2 in /usr/local/lib/python3.12/dist-packages (from requests>=2.25.0->spotipy) (3.4.3)\n",
            "Requirement already satisfied: idna<4,>=2.5 in /usr/local/lib/python3.12/dist-packages (from requests>=2.25.0->spotipy) (3.10)\n",
            "Requirement already satisfied: certifi>=2017.4.17 in /usr/local/lib/python3.12/dist-packages (from requests>=2.25.0->spotipy) (2025.8.3)\n",
            "Downloading spotipy-2.25.1-py3-none-any.whl (31 kB)\n",
            "Downloading redis-6.4.0-py3-none-any.whl (279 kB)\n",
            "\u001b[2K   \u001b[90m━━━━━━━━━━━━━━━━━━━━━━━━━━━━━━━━━━━━━━━━\u001b[0m \u001b[32m279.8/279.8 kB\u001b[0m \u001b[31m7.2 MB/s\u001b[0m eta \u001b[36m0:00:00\u001b[0m\n",
            "\u001b[?25hInstalling collected packages: redis, spotipy\n",
            "Successfully installed redis-6.4.0 spotipy-2.25.1\n"
          ]
        }
      ],
      "source": [
        "pip install spotipy"
      ]
    },
    {
      "cell_type": "code",
      "execution_count": null,
      "metadata": {
        "id": "LujyooSkzaa2"
      },
      "outputs": [],
      "source": []
    }
  ],
  "metadata": {
    "colab": {
      "provenance": []
    },
    "kernelspec": {
      "display_name": "Python 3",
      "name": "python3"
    },
    "language_info": {
      "name": "python"
    }
  },
  "nbformat": 4,
  "nbformat_minor": 0
}
